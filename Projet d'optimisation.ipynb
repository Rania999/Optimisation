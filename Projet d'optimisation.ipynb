{
 "cells": [
  {
   "cell_type": "markdown",
   "metadata": {},
   "source": [
    "# Projet d'optimisation \n",
    "## Par Pierre Sion et Rania Fathi"
   ]
  },
  {
   "cell_type": "markdown",
   "metadata": {},
   "source": [
    "## I- Modélisation "
   ]
  },
  {
   "cell_type": "markdown",
   "metadata": {},
   "source": [
    "### Question 1 :\n",
    "On définit l'élasticité-prix comme étant la variation relative de la quantité demandée par rapport au prix, soit encore: \n",
    "    $\\varepsilon_i = \\frac{\\frac{dx_i}{x_i}}{\\frac{dp_i}{p_i}} $ \n",
    "où l'on a noté $x_i$ la demande et $p_i$ le prix du ième produit \n",
    "    \n",
    "Cela peut encore s'écrire: \n",
    "$\\varepsilon_i = \\frac{\\partial x_i}{\\partial p_i} \\frac{p_i}{x_i}$\n",
    "\n",
    "Comme on s'attend à ce que la demande pour un produit diminue si le prix augmente, on a $\\varepsilon_i \\leq 0$\n",
    "\n",
    "Pour ce qui est de l'élasticité prix croisée entre le gouda et l'edam, elle vaut: \n",
    "\n",
    "$\\varepsilon_c = \\frac{\\frac{dx_g}{x_g}}{\\frac{dp_e}{p_e}} = \\frac{\\partial x_g}{\\partial p_e} \\frac{p_e}{x_g}$\n",
    "\n",
    "Les biens considérés étant substituables, on a $\\varepsilon_c \\geq 0$ et cela nous donne la relation "
   ]
  },
  {
   "cell_type": "markdown",
   "metadata": {},
   "source": [
    "### Question 2 :\n",
    "Le lait brut possède une quantité de matière grasse totale répartie entre les quatre produits, que l'on note $M$. En notant $m_i$ la teneur en matière grasse présente dans chaque produit, on a : \n",
    "\n",
    "$ \\sum_{i=1}^{4}m_i x_i \\leq M X$\n",
    "\n",
    "On fait par ailleurs le choix de mettre une inégalité plutôt qu'une égalité pour considérer le cas où tout le lait n'est pas transformé "
   ]
  },
  {
   "cell_type": "markdown",
   "metadata": {},
   "source": [
    "### Question 3 : \n",
    "De la même manière, on note $L$ la quantité totale de lactose contenue dans le lait, et $l_i$ celle contenue dans chaque produit, et on a alors la contrainte suivante: \n",
    "\n",
    "$\\sum_{i=1}^{4} l_i \\leq L$"
   ]
  },
  {
   "cell_type": "markdown",
   "metadata": {},
   "source": [
    "### Question 5 :\n",
    "On dispose donc du problème d'optimisation sous contraintes suivant : $\\max_{c(x) \\leq 0} \\Pi (x)$ \n",
    "\n",
    "où le profit $\\Pi:\\mathbf{R}^4 \\times \\mathbf{R}^4 \\rightarrow \\mathbf{R}^+  $ vaut $\\Pi(x,p) = \\sum_{i=1}^4 p_i x_i $ (En toute rigueur, $\\Pi$ est égal au revenu plutôt qu'au profit, mais l'omission du terme $-C$ correspondant au coût total du lait acheté ne modifie pas le problème d'optimisation à résoudre)\n",
    "\n",
    "et les contraintes $c : \\mathbf{R}^4 \\times \\mathbf{R}^4 \\rightarrow \\mathbf{R}^7$ sont donc les suivantes : \n",
    "\n",
    "$c_1(x,p) = x_1 \\\\ \n",
    "c_2(x,p) = x_2\\\\ \n",
    "c_3(x,p) = x_3\\\\ \n",
    "c_4(x,p) = x_4\\\\ \n",
    "c_5(x,p) = \\\\ \n",
    "c_6(x,p) = \\\\ \n",
    "c_7(x,p) =  $"
   ]
  },
  {
   "cell_type": "markdown",
   "metadata": {},
   "source": [
    "## II- Implémentation "
   ]
  },
  {
   "cell_type": "code",
   "execution_count": null,
   "metadata": {},
   "outputs": [],
   "source": []
  },
  {
   "cell_type": "code",
   "execution_count": null,
   "metadata": {},
   "outputs": [],
   "source": []
  }
 ],
 "metadata": {
  "kernelspec": {
   "display_name": "Python 3.7.3 64-bit ('Rania': virtualenv)",
   "language": "python",
   "name": "python37364bitraniavirtualenv039b6047f22347d39df7cafc661f9b2a"
  },
  "language_info": {
   "codemirror_mode": {
    "name": "ipython",
    "version": 3
   },
   "file_extension": ".py",
   "mimetype": "text/x-python",
   "name": "python",
   "nbconvert_exporter": "python",
   "pygments_lexer": "ipython3",
   "version": "3.7.3"
  }
 },
 "nbformat": 4,
 "nbformat_minor": 2
}
