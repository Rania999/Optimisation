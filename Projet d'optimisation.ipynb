{
 "cells": [
  {
   "cell_type": "markdown",
   "metadata": {},
   "source": [
    "# Projet d'optimisation \n",
    "## Par  Rania Fathi et Pierre Sion "
   ]
  },
  {
   "cell_type": "markdown",
   "metadata": {},
   "source": [
    "## I- Modélisation "
   ]
  },
  {
   "cell_type": "markdown",
   "metadata": {},
   "source": [
    "### Question 1 :\n",
    "On définit l'élasticité-prix comme étant la variation relative de la quantité demandée par rapport au prix, soit encore: \n",
    "    $\\varepsilon_i = \\frac{\\frac{dx_i}{x_i}}{\\frac{dp_i}{p_i}} $ \n",
    "où l'on a noté $x_i$ la demande et $p_i$ le prix du ième produit \n",
    "    \n",
    "Cela peut encore s'écrire: \n",
    "$\\varepsilon_i = \\frac{\\partial x_i}{\\partial p_i} \\frac{p_i}{x_i}$\n",
    "\n",
    "Comme on s'attend à ce que la demande pour un produit diminue si le prix augmente, on a $\\varepsilon_i \\leq 0$\n",
    "\n",
    "Pour ce qui est de l'élasticité prix croisée entre le gouda et l'edam, elle vaut: \n",
    "\n",
    "$\\varepsilon_c = \\frac{\\frac{dx_g}{x_g}}{\\frac{dp_e}{p_e}} = \\frac{\\partial x_g}{\\partial p_e} \\frac{p_e}{x_g}$\n",
    "\n",
    "Les biens considérés étant substituables, on a $\\varepsilon_c \\geq 0$ "
   ]
  },
  {
   "cell_type": "markdown",
   "metadata": {},
   "source": [
    "### Question 2 :\n",
    "Le lait brut possède une quantité de matière grasse totale répartie entre les quatre produits, que l'on note $M$. En notant $m_i$ la teneur en matière grasse présente dans chaque produit, on a : \n",
    "\n",
    "$ \\sum_{i=1}^{4}m_i x_i \\leq M$\n",
    "\n",
    "On fait par ailleurs le choix de mettre une inégalité plutôt qu'une égalité pour considérer le cas où tout le lait n'est pas transformé "
   ]
  },
  {
   "cell_type": "markdown",
   "metadata": {},
   "source": [
    "### Question 3 : \n",
    "De la même manière, on note $L$ la quantité totale de lactose contenue dans le lait, et $l_i$ celle contenue dans chaque produit, et on a alors la contrainte suivante: \n",
    "\n",
    "$\\sum_{i=1}^{4} l_i x_i \\leq L $"
   ]
  },
  {
   "cell_type": "markdown",
   "metadata": {},
   "source": [
    "### Question 4 :\n",
    "\n",
    "Afin de garantir la paix sociale, la moyenne (pondérée par la part de chaque produit dans le budget) des changements de prix relatifs ne doit pas être positive.\n",
    "On note $b_i$ la part du ième produit dans le budget (déterminée à partir des données de l'année N-1). Cette contrainte s'écrit donc: \n",
    "$\\sum_{i=1}^{4}b_i \\frac{dp_i}{p_i} \\leq 0$\n",
    "\n",
    "Comme les contraintes dont on dispose jusque maintenant portent sur les quantités et non pas les prix, on la réécrit sous la forme suivante : $ \\sum_{i=1}^4 \\frac{b_i}{\\epsilon_i} \\frac{dx_i}{x_i} \\leq 0$ "
   ]
  },
  {
   "cell_type": "markdown",
   "metadata": {},
   "source": [
    "### Question 5 :\n",
    "\n",
    "_En supposant qu'on dispose déjà des $(p_i)_{1\\leq i\\leq4}$, $(b_i)_{1\\leq i\\leq4}$, $(\\epsilon_i)_{1\\leq i\\leq4}$, $(m_i)_{1\\leq i \\leq 4}$, de $M$ et $L$_  \n",
    "On dispose donc du problème d'optimisation sous contraintes suivant : $\\max_{c(x) \\leq 0} \\Pi (x)$ \n",
    "\n",
    "où le profit $\\Pi:\\mathbf{R}^4 \\rightarrow \\mathbf{R}  $ vaut $\\Pi(x) = \\sum_{i=1}^4 p_i x_i $ (En toute rigueur, $\\Pi$ est égal au revenu plutôt qu'au profit, mais l'omission du terme $-C$ correspondant au coût total du lait acheté ne modifie pas le problème d'optimisation à résoudre).\n",
    "\n",
    "Et les contraintes $c : \\mathbf{R}^4 \\rightarrow \\mathbf{R}^7$ sont les suivantes : \n",
    "\n",
    "$c_1(x) = - x_1 \\\\ \n",
    "c_2(x) = - x_2\\\\ \n",
    "c_3(x) = - x_3\\\\ \n",
    "c_4(x) = - x_4$\n",
    "\n",
    "Ces quatre premières contraintes traduisent le fait que les quantités considérées sont nécessairement positives. Et nous disposons des deux contraintes des questions 2 et 3: \n",
    "\n",
    "$c_5(x) = \\sum_{i=1}^{4}m_i x_i - M\\\\ \n",
    "c_6(x) = \\sum_{i=1}^{4} l_i x_i - L $\n",
    "\n",
    "Et enfin :\n",
    "$c_7(x) =  \\sum_{i=1}^4 \\frac{b_i}{\\epsilon_i} \\frac{dx_i}{x_i} \\leq 0$\n",
    "\n",
    "NB: Il aurait été possible d'ajouter les contraintes portant sur le signe de l'élasticité des produits, imposant que l'augmentation du prix d'un produit réduit la demande, ou encore celles stipulant que les prix des produits se doivent d'être positifs "
   ]
  },
  {
   "cell_type": "markdown",
   "metadata": {},
   "source": [
    "On cherche donc à résoudre $max_{C^Tp-d \\leq 0} b^T p - \\frac{1}{2} p^T A p$ soit encore $min_{C^Tp-d \\leq 0} \\frac{1}{2} p^T A p- b^T p$"
   ]
  },
  {
   "cell_type": "markdown",
   "metadata": {},
   "source": [
    "## II- Implémentation "
   ]
  },
  {
   "cell_type": "markdown",
   "metadata": {},
   "source": [
    "Nous remarquons dans un premier temps que les contraintes sont linéaires et que la fonction à minimiser est quadratique, ce qui montre que le problème est convexe, et les fonctions sont différentiables. De plus, comme la matrice $A$ étant symétrique positive, on est assuré de l'existence et l'unicité du minimum. "
   ]
  },
  {
   "cell_type": "markdown",
   "metadata": {},
   "source": [
    "### Cadre de travail"
   ]
  },
  {
   "cell_type": "code",
   "execution_count": 203,
   "metadata": {},
   "outputs": [],
   "source": [
    "import numpy as np \n",
    "from scipy import optimize\n",
    "import pylab\n",
    "import matplotlib.pyplot as plt\n",
    "\n",
    " #Données :\n",
    "A = np.array([[3.0825,0,0,0],\n",
    "              [0,0.0405,0,0],\n",
    "              [0,0,0.0271,-0.0031],\n",
    "              [0,0,-0.0031,0.0054]])\n",
    "b = np.array([2671,135,103,19])\n",
    "\n",
    "C = np.array([[-0.0401,-0.0162,-0.0039,0.0002],\n",
    "              [-0.1326,-0.0004,-0.0034,0.0006],\n",
    "              [1.5413,0,0,0],\n",
    "              [0,0.0203,0,0],\n",
    "              [0,0,0.0136,-0.0015],\n",
    "              [0,0,-0.0016,0.0027],\n",
    "              [0.0160,0.0004,0.0005,0.0002]])\n",
    "\n",
    "d = np.array([-92.6,-29,2671,135,103,19,10])\n",
    "\n",
    "x0=np.array([2055,54,63,17])\n",
    "lambda0 = np.array([1e-8 for i in range(7)])\n",
    "\n",
    "#Fonction à minimiser :\n",
    "def f(x):\n",
    "    return 0.5 * np.vdot(np.dot(x,A),x) - np.vdot(b,x)\n",
    "\n",
    "def grad_f(x):\n",
    "    return np.dot(A,x) - b \n",
    "\n",
    "# Contraintes:\n",
    "\n",
    "def c(x) :\n",
    "    return np.dot(C,x) - d \n",
    "\n",
    "def grad_c(x):\n",
    "    return C\n",
    "def c_m(x) :\n",
    "    return -np.dot(C,x) + d \n",
    "\n",
    "def grad_c_m(x):\n",
    "    return -C"
   ]
  },
  {
   "cell_type": "markdown",
   "metadata": {},
   "source": [
    "On commence par déterminer la solution de notre problème à l'aide de scipy, afin de pouvoir y comparer nos résultats (on a commencé par essayer de modifier simplement la tolérance mais l'algorithme ne convergeait pas, cf suite): "
   ]
  },
  {
   "cell_type": "code",
   "execution_count": 204,
   "metadata": {
    "scrolled": true
   },
   "outputs": [
    {
     "name": "stdout",
     "output_type": "stream",
     "text": [
      "Positive directional derivative for linesearch    (Exit mode 8)\n",
      "            Current function value: -1280286.610982609\n",
      "            Iterations: 16\n",
      "            Function evaluations: 12\n",
      "            Gradient evaluations: 12\n",
      "x_scipy_f :  [ 420.23259677 4025.00823812 2774.95785643 1393.98114058]\n",
      "grad_f(x_scipy_f) :  [-1375.63302045    28.01283364   -32.11998363   -20.0748712 ]\n",
      "c(x_scipy_f) :  [-1.36424205e-11  3.69313137e+01  2.02329550e+03  5.32923328e+01\n",
      "  6.73515449e+01  1.96761835e+01  7.86197774e-11]\n",
      "False\n"
     ]
    }
   ],
   "source": [
    "tolerance = 1e-9\n",
    "ineq_cons_f = {'type': 'ineq','fun' : c_m,'jac' : grad_c_m}\n",
    "res_scipy_f = optimize.minimize(f, x0, method='SLSQP', jac = grad_f, constraints=[ineq_cons_f], options={'ftol': tolerance, 'disp': True})\n",
    "print(\"x_scipy_f : \", res_scipy_f.x)\n",
    "print(\"grad_f(x_scipy_f) : \", grad_f(res_scipy_f.x))\n",
    "print(\"c(x_scipy_f) : \", c_m(res_scipy_f.x))\n",
    "print(res_scipy_f.success)"
   ]
  },
  {
   "cell_type": "markdown",
   "metadata": {},
   "source": [
    "Nous avons donc opté pour une autre méthode :"
   ]
  },
  {
   "cell_type": "code",
   "execution_count": 205,
   "metadata": {},
   "outputs": [
    {
     "name": "stdout",
     "output_type": "stream",
     "text": [
      "`gtol` termination condition is satisfied.\n",
      "Number of iterations: 44, function evaluations: 38, CG iterations: 90, optimality: 5.61e-12, constraint violation: 0.00e+00, execution time: 0.075 s.\n",
      "x_scipy_f :  [ 420.2326016  4025.00826627 2774.95768908 1393.98111676]\n",
      "grad_f(x_scipy_f) :  [-1375.63300558    28.01283478   -32.11998809   -20.07487081]\n",
      "c(x_scipy_f) :  [1.55863233e-09 3.69313138e+01 2.02329549e+03 5.32923322e+01\n",
      " 6.73515471e+01 1.96761833e+01 6.64801547e-11]\n",
      "True\n"
     ]
    }
   ],
   "source": [
    "from scipy.optimize import LinearConstraint\n",
    "linear_constraint = LinearConstraint (C, [-np.inf for i in d], d)\n",
    "from scipy.optimize import minimize\n",
    "\n",
    "\n",
    "res = minimize (f, x0, method = 'trust-constr', jac = grad_f,\n",
    "                constraints =[linear_constraint],\n",
    "                options = {'verbose': 1})\n",
    "\n",
    "print(\"x_scipy_f : \", res.x)\n",
    "print(\"grad_f(x_scipy_f) : \", grad_f(res.x))\n",
    "print(\"c(x_scipy_f) : \", c_m(res.x))\n",
    "print(res.success) "
   ]
  },
  {
   "cell_type": "markdown",
   "metadata": {},
   "source": [
    "Les résultats sont inchangés par rapport à la méthode SLSQP, mais l'algorithme annonce avoir convergé. Pour avoir testé d'autres méthodes de scipy.optimize et obtenu les mêmes résultats, on considérera qu'il s'agit d'une valeur approchée de notre résultat, et nous y comparerons les outputs de nos autres algorithmes :"
   ]
  },
  {
   "cell_type": "markdown",
   "metadata": {},
   "source": [
    "### I. Méthode d'Uzawa, à pas fixe et variable (wolfe): "
   ]
  },
  {
   "cell_type": "code",
   "execution_count": 206,
   "metadata": {},
   "outputs": [],
   "source": [
    "def uzawa_fixed_step_array(fun, grad_fun, c, grad_c, x0, l, rho, lambda0, max_iter = 10000, epsilon_grad_L = 1e-8):\n",
    "\tk = 0\n",
    "\txk = x0\n",
    "\tlambdak = lambda0\n",
    "\tgrad_Lagrangienk_xk = grad_fun(xk) + np.dot(lambdak,grad_c(xk))\n",
    "\twhile ((k<max_iter) and (np.linalg.norm(grad_Lagrangienk_xk)>epsilon_grad_L)):\n",
    "\t\tgrad_Lagrangienk_xk = grad_fun(xk) + np.dot(lambdak,grad_c(xk))\n",
    "\t\tpk = -grad_Lagrangienk_xk\n",
    "\t\txk = xk + l*pk;    \n",
    "\t\tlambdak= np.maximum(0, lambdak + rho*c(xk))\t\n",
    "\t\tk = k + 1\n",
    "\treturn xk\n"
   ]
  },
  {
   "cell_type": "code",
   "execution_count": 207,
   "metadata": {},
   "outputs": [],
   "source": [
    "def wolfe_step(fun, grad_fun, xk, pk, c1 = 0.25, c2 = 0.75, M = 1000):\n",
    "\tl_moins = 0\n",
    "\tl_plus = 0\n",
    "\tf_xk = fun(xk)\n",
    "\tgrad_f_xk = grad_fun(xk)\n",
    "\tli = 0.0001\n",
    "\ti = 0\n",
    "\twhile(i < M):\n",
    "\t\tif (fun(xk+li*pk)>(f_xk+c1*li*np.dot(grad_f_xk,pk))):\n",
    "\t\t\tl_plus = li\n",
    "\t\t\tli = (l_moins+l_plus)/2.0\n",
    "\t\telse:\n",
    "\t\t\tif (np.dot(grad_fun(xk+li*pk),pk) < c2*np.dot(grad_f_xk,pk)):\n",
    "\t\t\t\tl_moins = li\n",
    "\t\t\t\tif (l_plus == 0):\n",
    "\t\t\t\t\tli = 2*li\n",
    "\t\t\t\telse:\n",
    "\t\t\t\t\tli = (l_moins+l_plus)/2.0\n",
    "\t\t\telse:\n",
    "\t\t\t\t#print(\"Nb itérations : \", i)\n",
    "\t\t\t\treturn li\n",
    "\t\ti = i + 1\n",
    "\t#print(\"Trop d'itérations de Wolfe\")\n",
    "\treturn li\n",
    "\n",
    "def uzawa_wolfe_step_array(fun, grad_fun, c, grad_c, x0, rho, lambda0, max_iter = 10000, epsilon_grad_L = 1e-8):\n",
    "\tk = 0\n",
    "\txk = x0\n",
    "\tlambdak = lambda0\n",
    "\tgrad_Lagrangienk_xk = grad_fun(xk) + np.dot(lambdak,grad_c(xk))\n",
    "\twhile ((k<max_iter) and (np.linalg.norm(grad_Lagrangienk_xk)>epsilon_grad_L)):\n",
    "\t\tLagrangienk = lambda x : fun(x) + np.dot(lambdak, c(x))\n",
    "\t\tgrad_Lagrangienk = lambda x : grad_fun(x) + np.dot(lambdak, grad_c(x))\n",
    "\t\tgrad_Lagrangienk_xk = grad_Lagrangienk(xk)\n",
    "\t\tpk = -grad_Lagrangienk_xk\n",
    "\t\tlk = wolfe_step(Lagrangienk, grad_Lagrangienk, xk, pk)\n",
    "\t\txk = xk + lk*pk;    \n",
    "\t\tlambdak = np.maximum(0, lambdak + rho*c(xk))\n",
    "\t\tk = k + 1\n",
    "\treturn xk\n",
    "\n"
   ]
  },
  {
   "cell_type": "markdown",
   "metadata": {},
   "source": [
    "### II. Méthode de Newton BFGS :"
   ]
  },
  {
   "cell_type": "code",
   "execution_count": 208,
   "metadata": {},
   "outputs": [],
   "source": [
    "def newton_BFGS_array(f, grad_f, c, grad_c, x0, lambda0, max_iter = 100000, epsilon_grad_L = 1e-5):\n",
    "\tk = 0\n",
    "\txk = x0\n",
    "\tlambdak = lambda0\n",
    "\tHk = np.identity(len(x0))\n",
    "\tgrad_Lagrangienk_xk = grad_f(xk) + np.dot(lambdak,grad_c(xk))\n",
    "\twhile ((k<max_iter) and (np.linalg.norm(grad_Lagrangienk_xk)>epsilon_grad_L)):\n",
    "\t\tLagrangienk = lambda x : f(x) + np.dot(lambdak, c(x))\n",
    "\t\tgrad_Lagrangienk = lambda x : grad_f(x) + np.dot(lambdak, grad_c(x))\n",
    "\t\tgrad_Lagrangienk_xk = grad_Lagrangienk(xk)\n",
    "\t\tpk = -np.matmul(Hk,grad_Lagrangienk_xk)\n",
    "\t\tlk = wolfe_step(Lagrangienk, grad_Lagrangienk, xk, pk)\n",
    "\t\txk1 = xk + lk*pk\n",
    "\t\tgrad_Lagrangienk_xk1 = grad_Lagrangienk(xk1)\n",
    "\t\tsk = xk1 - xk\n",
    "\t\tyk = grad_Lagrangienk_xk1 - grad_Lagrangienk_xk\n",
    "\t\tgammak = 1.0/np.dot(yk, sk)\n",
    "\t\tAk = np.identity(len(x0)) - gammak*np.multiply(sk[:, np.newaxis], yk)\n",
    "\t\tBk = np.identity(len(x0)) - gammak*np.multiply(yk[:, np.newaxis], sk)\n",
    "\t\tHk = np.matmul(np.matmul(Ak, Hk), Bk) + gammak*np.multiply(sk[:, np.newaxis], sk)\n",
    "\t\txk = xk1 \n",
    "\t\t\n",
    "\t\tfor i in range(len(c(xk))):\n",
    "\t\t\trhok = np.dot(grad_c(xk)[i], np.matmul(Hk,grad_c(xk)[i]))\n",
    "\t\t\tlambdak[i] = np.maximum(0, lambdak[i] + (1/rhok)*c(xk)[i])\n",
    "\t\tk = k + 1\n",
    "\treturn xk\n"
   ]
  },
  {
   "cell_type": "markdown",
   "metadata": {},
   "source": [
    "### III. Méthode  d'Arrow-Hurwickz"
   ]
  },
  {
   "cell_type": "markdown",
   "metadata": {},
   "source": [
    "On commence par construire le projecteur sur $\\mathbb{R}_{+}$ :"
   ]
  },
  {
   "cell_type": "code",
   "execution_count": 209,
   "metadata": {},
   "outputs": [],
   "source": [
    "def proj(x):\n",
    "    for i in range(0,len(x)):\n",
    "        if x[i]<0:\n",
    "            x[i]=0\n",
    "    return x"
   ]
  },
  {
   "cell_type": "markdown",
   "metadata": {},
   "source": [
    "Ce qui permet d'implémenter l'algorithme AH : "
   ]
  },
  {
   "cell_type": "code",
   "execution_count": 210,
   "metadata": {},
   "outputs": [],
   "source": [
    "def algo_ah(x0,lambda0, epsilon=0.1, alpha=0.001, max_iterations = 10000, epsilon_grad_f = 1e-8):   \n",
    "    lambdak=lambda0\n",
    "    xl = x0\n",
    "    xk = xl - epsilon*(grad_f(xl) + (np.transpose(C)).dot(lambdak))\n",
    "    compteur = 1 \n",
    "    while(compteur <= max_iterations and np.linalg.norm(grad_f(xk))>epsilon_grad_f):\n",
    "        compteur += 1\n",
    "        xk = xk - epsilon * (grad_f(xk) + (np.transpose(C)).dot(lambdak))\n",
    "        lambdak = proj(lambdak + alpha * (np.dot(C,xk) - d))\n",
    "    return xk"
   ]
  },
  {
   "cell_type": "markdown",
   "metadata": {},
   "source": [
    "### Comparaison des résultats"
   ]
  },
  {
   "cell_type": "code",
   "execution_count": 211,
   "metadata": {},
   "outputs": [],
   "source": [
    "X_scipy = res_scipy_f.x\n",
    "X_fixed_step_V = uzawa_fixed_step_array(f, grad_f, c, grad_c, x0, 0.0001, 0.1, lambda0)\n",
    "X_wolfe_step_V = uzawa_wolfe_step_array(f, grad_f, c, grad_c, x0, 0.1, lambda0)\n",
    "X_newton_BFGS = newton_BFGS_array(f, grad_f, c, grad_c, x0, lambda0)\n",
    "X_AH = algo_ah(x0,lambda0)\n",
    "\n",
    "L = [X_scipy,X_fixed_step_V,X_wolfe_step_V,X_newton_BFGS,X_AH]\n",
    "p_lait = [x[0] for x in L]\n",
    "p_beurre = [x[1] for x in L]\n",
    "p_gouda = [x[2] for x in L]\n",
    "p_edam = [x[3] for x in L]\n",
    "BarName = [\"SLSQP\",\"Uzawa pas fixe\",\"Uzawa wolfe\",\"BFGS\",\"Arrow-Hurwickz\"]\n",
    "x=[i+1 for i in range(len(L))]"
   ]
  },
  {
   "cell_type": "code",
   "execution_count": 212,
   "metadata": {},
   "outputs": [
    {
     "data": {
      "image/png": "[encoded data removed]",
      "text/plain": [
       "<Figure size 432x288 with 1 Axes>"
      ]
     },
     "metadata": {
      "needs_background": "light"
     },
     "output_type": "display_data"
    }
   ],
   "source": [
    "plt.bar(x,p_lait)\n",
    "plt.ylabel('Prix du lait')\n",
    "plt.title('Comparaison des prix du lait')\n",
    "pylab.xticks(x, BarName, rotation=40)\n",
    "plt.show()"
   ]
  },
  {
   "cell_type": "code",
   "execution_count": 213,
   "metadata": {},
   "outputs": [
    {
     "data": {
      "image/png": "[encoded data removed]",
      "text/plain": [
       "<Figure size 432x288 with 1 Axes>"
      ]
     },
     "metadata": {
      "needs_background": "light"
     },
     "output_type": "display_data"
    }
   ],
   "source": [
    "plt.bar(x,p_beurre)\n",
    "plt.ylabel('Prix du beurre')\n",
    "plt.title('Comparaison des prix du beurre')\n",
    "pylab.xticks(x, BarName, rotation=40)\n",
    "plt.show()"
   ]
  },
  {
   "cell_type": "code",
   "execution_count": 214,
   "metadata": {},
   "outputs": [
    {
     "data": {
      "image/png": "[encoded data removed]",
      "text/plain": [
       "<Figure size 432x288 with 1 Axes>"
      ]
     },
     "metadata": {
      "needs_background": "light"
     },
     "output_type": "display_data"
    }
   ],
   "source": [
    "plt.bar(x,p_lait)\n",
    "plt.ylabel('Prix du lait')\n",
    "plt.title('Comparaison des prix du lait')\n",
    "pylab.xticks(x, BarName, rotation=40)\n",
    "plt.show()"
   ]
  },
  {
   "cell_type": "code",
   "execution_count": 215,
   "metadata": {},
   "outputs": [
    {
     "data": {
      "image/png": "[encoded data removed]",
      "text/plain": [
       "<Figure size 432x288 with 1 Axes>"
      ]
     },
     "metadata": {
      "needs_background": "light"
     },
     "output_type": "display_data"
    }
   ],
   "source": [
    "plt.bar(x,p_edam)\n",
    "plt.ylabel(\"Prix de l'edam\")\n",
    "plt.title(\"Comparaison des prix de l'edam\")\n",
    "pylab.xticks(x, BarName, rotation=40)\n",
    "plt.show()"
   ]
  },
  {
   "cell_type": "markdown",
   "metadata": {},
   "source": [
    "# Synthèse : "
   ]
  },
  {
   "cell_type": "markdown",
   "metadata": {},
   "source": [
    "Les algorithmes d'Uzawa donnent des résultats assez peu satisfaisants : il faut réduire le pas dans le cas fixe et réduire li dans le cas variable pour avoir des résultats plus cohérents, mais cela allonge considérablement le temps de calcul. BFGS et Arrow-Hurwickz donnent en apparence une plus grande précision, mais en comparant leurs résultats respectifs (cf cellule ci-dessous), on voit que BFGS donne des résultats égaux aux attendus à 1e-4 près. Le problème étant de petite taille, la stockage de l'approximation du hessien n'est pas non plus problématique."
   ]
  },
  {
   "cell_type": "code",
   "execution_count": 216,
   "metadata": {},
   "outputs": [
    {
     "name": "stdout",
     "output_type": "stream",
     "text": [
      "[20.043683523850575, 0.0002935052251586967]\n"
     ]
    }
   ],
   "source": [
    "differences =np.array([[p_lait[4] - p_lait[0], p_lait[3] - p_lait[0]],\n",
    "             [p_beurre[4] - p_beurre[0], p_beurre[3] - p_beurre[0]],\n",
    "             [p_gouda[4] - p_gouda[0], p_gouda[3] - p_gouda[0]],\n",
    "             [p_edam[4] - p_edam[0], p_edam[3] - p_edam[0]]])\n",
    "\n",
    "erreurs = [sum(abs(differences[i,0]) for i in range(4)), sum(abs(differences[i,1]) for i in range(4))]\n",
    "print(erreurs)"
   ]
  },
  {
   "cell_type": "markdown",
   "metadata": {},
   "source": [
    "# En modifiant les valeurs d'entrée"
   ]
  },
  {
   "cell_type": "markdown",
   "metadata": {},
   "source": [
    "Comme la méthode BFGS donne les meilleurs résultats, nous choisissons de tester sa robustesse en modifiant quelque peu les données (A et C) d'un facteur epsilon = 1e-4"
   ]
  },
  {
   "cell_type": "code",
   "execution_count": 217,
   "metadata": {},
   "outputs": [],
   "source": [
    "x0=np.array([2055,54,63,17])\n",
    "lambda0 = np.array([1e-8 for i in range(7)])\n",
    " \n",
    "    #Données :\n",
    "    \n",
    "A_bis = A + 1e-4 * np.eye(4)\n",
    "\n",
    "C_bis = C + 1e-4 * np.ones((7,4))\n",
    "\n",
    "\n",
    "#Fonction à minimiser :\n",
    "def f_bis(x):\n",
    "    return 0.5 * np.vdot(np.dot(x,A_bis),x) - np.vdot(b,x)\n",
    "\n",
    "def grad_f_bis(x):\n",
    "    return np.dot(A_bis,x) - b \n",
    "\n",
    "# Contraintes:\n",
    "\n",
    "def c_bis(x) :\n",
    "    return np.dot(C_bis,x) - d \n",
    "\n",
    "def grad_c_bis(x):\n",
    "    return C_bis\n",
    "def c_m_bis(x) :\n",
    "    return -np.dot(C_bis,x) + d \n",
    "\n",
    "def grad_c_m_bis(x):\n",
    "    return -C_bis\n",
    "\n"
   ]
  },
  {
   "cell_type": "code",
   "execution_count": null,
   "metadata": {},
   "outputs": [],
   "source": []
  },
  {
   "cell_type": "code",
   "execution_count": 218,
   "metadata": {},
   "outputs": [
    {
     "name": "stdout",
     "output_type": "stream",
     "text": [
      "[ 865.98098571 3323.98520491 4459.18632755 5926.63505705]\n"
     ]
    }
   ],
   "source": [
    "def algo_ah_bis(x0,lambda0, epsilon=0.1, alpha=0.001, max_iterations = 10000, epsilon_grad_f = 1e-8):   \n",
    "    lambdak=lambda0\n",
    "    xl = x0\n",
    "    xk = xl - epsilon*(grad_f_bis(xl) + (np.transpose(C_bis)).dot(lambdak))\n",
    "    compteur = 1 \n",
    "    while(compteur <= max_iterations and np.linalg.norm(grad_f_bis(xk))>epsilon_grad_f):\n",
    "        compteur += 1\n",
    "        xk = xk - epsilon * (grad_f_bis(xk) + (np.transpose(C_bis)).dot(lambdak))\n",
    "        lambdak = proj(lambdak + alpha * (np.dot(C_bis,xk) - d))\n",
    "    return xk\n",
    "print (algo_ah_bis(x0,lambda0))"
   ]
  },
  {
   "cell_type": "code",
   "execution_count": 219,
   "metadata": {},
   "outputs": [],
   "source": [
    "X_scipy_bis = res_scipy_f.x\n",
    "X_newton_BFGS_bis = newton_BFGS_array(f_bis, grad_f_bis, c_bis, grad_c_bis, x0, lambda0)\n",
    "X_newton_AH_bis = algo_ah_bis(x0,lambda0)\n",
    "\n",
    "L_bis = [X_scipy_bis, X_newton_BFGS_bis, X_newton_AH_bis]\n",
    "p_lait = [x[0] for x in L_bis]\n",
    "p_beurre = [x[1] for x in L_bis]\n",
    "p_gouda = [x[2] for x in L_bis]\n",
    "p_edam = [x[3] for x in L_bis]\n",
    "BarName = [\"SLSQP\",\"BFGS\", \"AH\"]\n",
    "x=[i+1 for i in range(len(L_bis))]"
   ]
  },
  {
   "cell_type": "code",
   "execution_count": 220,
   "metadata": {},
   "outputs": [
    {
     "data": {
      "image/png": "[encoded data removed]",
      "text/plain": [
       "<Figure size 432x288 with 1 Axes>"
      ]
     },
     "metadata": {
      "needs_background": "light"
     },
     "output_type": "display_data"
    }
   ],
   "source": [
    "plt.bar(x,p_lait)\n",
    "plt.ylabel('Prix du lait')\n",
    "plt.title('Comparaison des prix du lait')\n",
    "pylab.xticks(x, BarName, rotation=40)\n",
    "plt.show()"
   ]
  },
  {
   "cell_type": "code",
   "execution_count": 221,
   "metadata": {},
   "outputs": [
    {
     "data": {
      "image/png": "[encoded data removed]",
      "text/plain": [
       "<Figure size 432x288 with 1 Axes>"
      ]
     },
     "metadata": {
      "needs_background": "light"
     },
     "output_type": "display_data"
    }
   ],
   "source": [
    "plt.bar(x,p_beurre)\n",
    "plt.ylabel('Prix du beurre')\n",
    "plt.title('Comparaison des prix du beurre')\n",
    "pylab.xticks(x, BarName, rotation=40)\n",
    "plt.show()"
   ]
  },
  {
   "cell_type": "code",
   "execution_count": 222,
   "metadata": {},
   "outputs": [
    {
     "data": {
      "image/png": "[encoded data removed]",
      "text/plain": [
       "<Figure size 432x288 with 1 Axes>"
      ]
     },
     "metadata": {
      "needs_background": "light"
     },
     "output_type": "display_data"
    }
   ],
   "source": [
    "plt.bar(x,p_lait)\n",
    "plt.ylabel('Prix du lait')\n",
    "plt.title('Comparaison des prix du lait')\n",
    "pylab.xticks(x, BarName, rotation=40)\n",
    "plt.show()"
   ]
  },
  {
   "cell_type": "code",
   "execution_count": 223,
   "metadata": {},
   "outputs": [
    {
     "data": {
      "image/png": "[encoded data removed]",
      "text/plain": [
       "<Figure size 432x288 with 1 Axes>"
      ]
     },
     "metadata": {
      "needs_background": "light"
     },
     "output_type": "display_data"
    }
   ],
   "source": [
    "plt.bar(x,p_edam)\n",
    "plt.ylabel(\"Prix de l'edam\")\n",
    "plt.title(\"Comparaison des prix de l'edam\")\n",
    "pylab.xticks(x, BarName, rotation=40)\n",
    "plt.show()"
   ]
  },
  {
   "cell_type": "markdown",
   "metadata": {},
   "source": [
    "A nouveau, les graphiques nous permettent simplement de voir que les valeurs sont plus ou moins \"proches\" pour certains produits, nous déterminons les erreurs numériques :"
   ]
  },
  {
   "cell_type": "code",
   "execution_count": 225,
   "metadata": {},
   "outputs": [
    {
     "name": "stdout",
     "output_type": "stream",
     "text": [
      "[2905.4603773703197, 2905.2850243273815]\n"
     ]
    }
   ],
   "source": [
    "differences =np.array([[p_lait[2] - p_lait[0], p_lait[1] - p_lait[0]],\n",
    "             [p_beurre[2] - p_beurre[0], p_beurre[1] - p_beurre[0]],\n",
    "             [p_gouda[2] - p_gouda[0], p_gouda[1] - p_gouda[0]],\n",
    "             [p_edam[2] - p_edam[0], p_edam[1] - p_edam[0]]])\n",
    "\n",
    "erreurs = [sum(abs(differences[i,0]) for i in range(4)), sum(abs(differences[i,1]) for i in range(4))]\n",
    "print(erreurs)"
   ]
  },
  {
   "cell_type": "markdown",
   "metadata": {},
   "source": [
    "Elles sont cette fois très importantes, surtout en ce qui concerne l'edam, que ça soit pour BFGS ou AH. On en déduit que ces algorithmes sont assez peu robustes, car une erreur de l'ordre de 1e-4 sur les données modifie énormément les résultats. "
   ]
  }
 ],
 "metadata": {
  "kernelspec": {
   "display_name": "Python 3",
   "language": "python",
   "name": "python3"
  },
  "language_info": {
   "codemirror_mode": {
    "name": "ipython",
    "version": 3
   },
   "file_extension": ".py",
   "mimetype": "text/x-python",
   "name": "python",
   "nbconvert_exporter": "python",
   "pygments_lexer": "ipython3",
   "version": "3.7.3"
  }
 },
 "nbformat": 4,
 "nbformat_minor": 2
}
