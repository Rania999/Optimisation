{
 "cells": [
  {
   "cell_type": "markdown",
   "metadata": {},
   "source": [
    "# Projet d'optimisation \n",
    "## Par Pierre Sion et Rania Fathi"
   ]
  },
  {
   "cell_type": "markdown",
   "metadata": {},
   "source": [
    "## I- Modélisation "
   ]
  },
  {
   "cell_type": "markdown",
   "metadata": {},
   "source": [
    "### Question 1 :\n",
    "On définit l'élasticité-prix comme étant la variation relative de la quantité demandée par rapport au prix, soit encore: \n",
    "    $\\varepsilon = \\frac{\\frac{dx}{x}}{\\frac{dp}{p}} $ \n",
    "où l'on a noté $x$ la demande et $p$ le prix\n",
    "    \n",
    "Cela peut encore s'écrire: \n",
    "$\\varepsilon = \\frac{\\partial x}{\\partial p} \\frac{p}{x}$\n",
    "\n",
    "Comme on s'attend à ce que la demande pour un produit diminue si le prix augmente, on a $\\varepsilon \\leq 0$\n",
    "\n",
    "Pour ce qui est de l'élasticité prix croisée entre le gouda et l'edam, elle vaut: \n",
    "\n",
    "$\\varepsilon_c = \\frac{\\frac{dx_g}{x_g}}{\\frac{dp_e}{p_e}} = \\frac{\\partial x_g}{\\partial p_e} \\frac{p_e}{x_g}$\n",
    "\n",
    "Les biens considérés étant substituables, on a $\\varepsilon_c \\geq 0$ et cela nous donne la relation "
   ]
  },
  {
   "cell_type": "markdown",
   "metadata": {},
   "source": [
    "\n"
   ]
  },
  {
   "cell_type": "markdown",
   "metadata": {},
   "source": [
    "## II- Implémentation "
   ]
  },
  {
   "cell_type": "code",
   "execution_count": null,
   "metadata": {},
   "outputs": [],
   "source": []
  }
 ],
 "metadata": {
  "kernelspec": {
   "display_name": "Python 3.7.3 64-bit ('Rania': virtualenv)",
   "language": "python",
   "name": "python37364bitraniavirtualenv039b6047f22347d39df7cafc661f9b2a"
  },
  "language_info": {
   "codemirror_mode": {
    "name": "ipython",
    "version": 3
   },
   "file_extension": ".py",
   "mimetype": "text/x-python",
   "name": "python",
   "nbconvert_exporter": "python",
   "pygments_lexer": "ipython3",
   "version": "3.7.3"
  }
 },
 "nbformat": 4,
 "nbformat_minor": 2
}
